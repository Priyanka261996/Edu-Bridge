{
 "cells": [
  {
   "cell_type": "code",
   "execution_count": 1,
   "metadata": {},
   "outputs": [],
   "source": [
    " #1. prgram for addition,subtraction,multiplication and division\n",
    "    "
   ]
  },
  {
   "cell_type": "code",
   "execution_count": 9,
   "metadata": {},
   "outputs": [
    {
     "data": {
      "text/plain": [
       "30"
      ]
     },
     "execution_count": 9,
     "metadata": {},
     "output_type": "execute_result"
    }
   ],
   "source": [
    "# addition\n",
    "a=10\n",
    "b=20\n",
    "c=a+b\n",
    "c"
   ]
  },
  {
   "cell_type": "code",
   "execution_count": 10,
   "metadata": {},
   "outputs": [
    {
     "data": {
      "text/plain": [
       "-10"
      ]
     },
     "execution_count": 10,
     "metadata": {},
     "output_type": "execute_result"
    }
   ],
   "source": [
    "# subtraction\n",
    "a=10\n",
    "b=20\n",
    "c=a-b\n",
    "c"
   ]
  },
  {
   "cell_type": "code",
   "execution_count": 11,
   "metadata": {},
   "outputs": [
    {
     "data": {
      "text/plain": [
       "200"
      ]
     },
     "execution_count": 11,
     "metadata": {},
     "output_type": "execute_result"
    }
   ],
   "source": [
    "# multiplication\n",
    "a=10\n",
    "b=20\n",
    "c=a*b\n",
    "c"
   ]
  },
  {
   "cell_type": "code",
   "execution_count": 12,
   "metadata": {},
   "outputs": [
    {
     "data": {
      "text/plain": [
       "0.5"
      ]
     },
     "execution_count": 12,
     "metadata": {},
     "output_type": "execute_result"
    }
   ],
   "source": [
    "# division\n",
    "a=10\n",
    "b=20\n",
    "c=a/b\n",
    "c"
   ]
  },
  {
   "cell_type": "code",
   "execution_count": 13,
   "metadata": {},
   "outputs": [],
   "source": [
    "#2. program to calculate area of circle , rectangle , square and triangle"
   ]
  },
  {
   "cell_type": "code",
   "execution_count": 15,
   "metadata": {},
   "outputs": [
    {
     "name": "stdout",
     "output_type": "stream",
     "text": [
      "enter the radius of circle:2\n",
      "area of circle is: 12.56\n"
     ]
    }
   ],
   "source": [
    "# area of circle\n",
    "pi=3.14\n",
    "r=float(input(\"enter the radius of circle:\"))\n",
    "area=pi*r*r\n",
    "print(\"area of circle is:\",\"%.2f\"%area)"
   ]
  },
  {
   "cell_type": "code",
   "execution_count": 21,
   "metadata": {},
   "outputs": [
    {
     "name": "stdout",
     "output_type": "stream",
     "text": [
      "enter first side10\n",
      "enter second side12\n",
      "area of rectangle is: 120\n"
     ]
    }
   ],
   "source": [
    "# area of rectangle\n",
    "a=int(input(\"enter first side\" ))\n",
    "b=int(input(\"enter second side\" ))\n",
    "area=a*b\n",
    "print(\"area of rectangle is:\",area)"
   ]
  },
  {
   "cell_type": "code",
   "execution_count": 23,
   "metadata": {},
   "outputs": [
    {
     "name": "stdout",
     "output_type": "stream",
     "text": [
      "enter the side of square10\n",
      "area of square is: 100\n"
     ]
    }
   ],
   "source": [
    "# area of square\n",
    "a=int(input(\"enter the side of square\"))\n",
    "area=a*a\n",
    "print(\"area of square is:\",area)"
   ]
  },
  {
   "cell_type": "code",
   "execution_count": 25,
   "metadata": {},
   "outputs": [
    {
     "name": "stdout",
     "output_type": "stream",
     "text": [
      "Enter first side: 19\n",
      "Enter second side: 12\n",
      "Enter third side: 13\n",
      "The area of the triangle is: 77.07139547199077\n"
     ]
    }
   ],
   "source": [
    "# area of triangle\n",
    "# Three sides of the triangle is a, b and c:  \n",
    "a = float(input('Enter first side: '))  \n",
    "b = float(input('Enter second side: '))  \n",
    "c = float(input('Enter third side: '))  \n",
    "  \n",
    "# calculate the semi-perimeter  \n",
    "s = (a + b + c) / 2  \n",
    "  \n",
    "# calculate the area  \n",
    "area = (s*(s-a)*(s-b)*(s-c)) ** 0.5  \n",
    "print(\"The area of the triangle is:\",area)"
   ]
  },
  {
   "cell_type": "code",
   "execution_count": 32,
   "metadata": {},
   "outputs": [
    {
     "name": "stdout",
     "output_type": "stream",
     "text": [
      "enter the value of x:10\n",
      "enter the value of y:20\n",
      "value of x after swapping is:  20\n",
      "value of y after swapping is:  10\n"
     ]
    }
   ],
   "source": [
    "#3. program to swap two numbers\n",
    "x=input(\"enter the value of x:\")\n",
    "y=input(\"enter the value of y:\")\n",
    "temp=x\n",
    "x=y\n",
    "y=temp\n",
    "print(\"value of x after swapping is: \",x)\n",
    "print(\"value of y after swapping is: \",y)\n"
   ]
  },
  {
   "cell_type": "code",
   "execution_count": 33,
   "metadata": {},
   "outputs": [
    {
     "name": "stdout",
     "output_type": "stream",
     "text": [
      "enter the value of x:10\n",
      "enter the value of y:20\n",
      "value of x after swapping is:  20\n",
      "value of y after swapping is:  20\n"
     ]
    }
   ],
   "source": [
    "#4. program to swap two numbers without using third variable\n",
    "x=input(\"enter the value of x:\")\n",
    "y=input(\"enter the value of y:\")\n",
    "x=y\n",
    "y=x\n",
    "print(\"value of x after swapping is: \",x)\n",
    "print(\"value of y after swapping is: \",y)\n"
   ]
  },
  {
   "cell_type": "code",
   "execution_count": 39,
   "metadata": {},
   "outputs": [
    {
     "name": "stdout",
     "output_type": "stream",
     "text": [
      "enter the pricipal amount:120\n",
      "enter the rate %:2\n",
      "enter the time:1\n",
      "simple interest is: 2.4\n"
     ]
    }
   ],
   "source": [
    "#5. program to calculate the simple interest\n",
    "p=int(input(\"enter the pricipal amount:\"))\n",
    "r=int(input(\"enter the rate %:\"))\n",
    "t=int(input(\"enter the time:\"))\n",
    "si=int(p*r*t)/100\n",
    "print(\"simple interest is:\",si)"
   ]
  },
  {
   "cell_type": "code",
   "execution_count": 6,
   "metadata": {},
   "outputs": [
    {
     "name": "stdout",
     "output_type": "stream",
     "text": [
      "enter first numbers:10\n",
      "enter second numbers:20\n",
      "enter third numbers:30\n",
      "enter fourth numbers:40\n",
      "enter fifth numbers:50\n",
      "average of five number is: 30.0\n"
     ]
    }
   ],
   "source": [
    "# 6. program to find average of five numbers\n",
    "num1=float(input(\"enter first numbers:\"))\n",
    "num2=float(input(\"enter second numbers:\"))\n",
    "num3=float(input(\"enter third numbers:\"))\n",
    "num4=float(input(\"enter fourth numbers:\"))\n",
    "num5=float(input(\"enter fifth numbers:\"))\n",
    "average=float((num1+num2+num3+num4+num5)/5)\n",
    "print(\"average of five number is:\",average)\n",
    "\n"
   ]
  },
  {
   "cell_type": "code",
   "execution_count": 14,
   "metadata": {},
   "outputs": [
    {
     "name": "stdout",
     "output_type": "stream",
     "text": [
      "Please provide the number to be reversed: 123456\n",
      "Reverse of the provided number is: 654321\n"
     ]
    }
   ],
   "source": [
    "#7. program to reverse two digits\n",
    "number = int(input(\"Please provide the number to be reversed: \"))\n",
    "Reverse_number = 0\n",
    "while(number > 0):\n",
    "    Reminder=number %10\n",
    "    Reverse_number = (Reverse_number *10) + Reminder\n",
    "    number =number //10\n",
    "print(\"Reverse of the provided number is:\",Reverse_number)\n"
   ]
  },
  {
   "cell_type": "code",
   "execution_count": 16,
   "metadata": {},
   "outputs": [
    {
     "name": "stdout",
     "output_type": "stream",
     "text": [
      "enter the value of b:12\n",
      "enter the value of a:2\n",
      "enter the value of c:3\n",
      "the value of discriminant is: 120.0\n"
     ]
    }
   ],
   "source": [
    "#8. program to find discriminant of quadatic equation\n",
    "b=float(input(\"enter the value of b:\"))\n",
    "a=float(input(\"enter the value of a:\"))\n",
    "c=float(input(\"enter the value of c:\"))\n",
    "d=float((b*b-4*a*c))\n",
    "print(\"the value of discriminant is:\",d)"
   ]
  },
  {
   "cell_type": "code",
   "execution_count": 17,
   "metadata": {},
   "outputs": [],
   "source": [
    "#9. program to find volume of cone,cuboid and cylinder\n"
   ]
  },
  {
   "cell_type": "code",
   "execution_count": 18,
   "metadata": {},
   "outputs": [
    {
     "name": "stdout",
     "output_type": "stream",
     "text": [
      "enter the value of radius:3\n",
      "enter the value of height4\n",
      "volume of cone is: 37.68\n"
     ]
    }
   ],
   "source": [
    "# program to find volume of cone\n",
    "pi=3.14\n",
    "r=float(input(\"enter the value of radius:\"))\n",
    "h=float(input(\"enter the value of height\"))\n",
    "volume=float((pi*r*r*h)/3)\n",
    "print(\"volume of cone is:\",volume)"
   ]
  },
  {
   "cell_type": "code",
   "execution_count": 19,
   "metadata": {},
   "outputs": [
    {
     "name": "stdout",
     "output_type": "stream",
     "text": [
      "enter the value of radius:3\n",
      "enter the value of height3\n",
      "volume of cylinder is: 84.78\n"
     ]
    }
   ],
   "source": [
    "# program to find volume of cylinder\n",
    "pi=3.14\n",
    "r=float(input(\"enter the value of radius:\"))\n",
    "h=float(input(\"enter the value of height\"))\n",
    "volume=float(pi*r*r*h)\n",
    "print(\"volume of cylinder is:\",volume)\n"
   ]
  },
  {
   "cell_type": "code",
   "execution_count": 20,
   "metadata": {},
   "outputs": [
    {
     "name": "stdout",
     "output_type": "stream",
     "text": [
      "enter the value of length:12\n",
      "enter the value of breadth:15\n",
      "enter the value of height17\n",
      "volume of cuboid is: 3060.0\n"
     ]
    }
   ],
   "source": [
    "#9. program to find volume of cuboid\n",
    "l=float(input(\"enter the value of length:\"))\n",
    "b=float(input(\"enter the value of breadth:\"))\n",
    "h=float(input(\"enter the value of height\"))\n",
    "volume=float(l*b*h)\n",
    "print(\"volume of cuboid is:\",volume)"
   ]
  },
  {
   "cell_type": "code",
   "execution_count": 4,
   "metadata": {},
   "outputs": [],
   "source": [
    "#10. program to find net salary of employee whose basic salary is given by user.DA wil be 10% of basic salary,\n",
    "HRA will be 15% of that salary,PF will be 7% of that salary.\n",
    "\n"
   ]
  },
  {
   "cell_type": "code",
   "execution_count": 7,
   "metadata": {},
   "outputs": [
    {
     "name": "stdout",
     "output_type": "stream",
     "text": [
      "enter the basic_salary of employee:2500\n",
      "net salary of employee is: 3317.5\n"
     ]
    }
   ],
   "source": [
    "basic_salary=int(input(\"enter the basic_salary of employee:\"))\n",
    "da=float(basic_salary*0.10)\n",
    "hra=float(basic_salary*0.15)\n",
    "pf=float((basic_salary+da)*0.07)\n",
    "net_salary=float(basic_salary+da+hra+pf)     \n",
    "print(\"net salary of employee is:\",net_salary)                   \n",
    "                   "
   ]
  },
  {
   "cell_type": "code",
   "execution_count": null,
   "metadata": {},
   "outputs": [],
   "source": []
  },
  {
   "cell_type": "code",
   "execution_count": null,
   "metadata": {},
   "outputs": [],
   "source": []
  }
 ],
 "metadata": {
  "kernelspec": {
   "display_name": "Python 3",
   "language": "python",
   "name": "python3"
  },
  "language_info": {
   "codemirror_mode": {
    "name": "ipython",
    "version": 3
   },
   "file_extension": ".py",
   "mimetype": "text/x-python",
   "name": "python",
   "nbconvert_exporter": "python",
   "pygments_lexer": "ipython3",
   "version": "3.8.5"
  }
 },
 "nbformat": 4,
 "nbformat_minor": 4
}
